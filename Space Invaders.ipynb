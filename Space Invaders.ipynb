import gym
env = gym.make("SpaceInvaders-v0", render_mode="human")

episodes = 5

for episode in range(1,episodes):
    state = env.reset()
    done = False
    score = 0

    while not done:
        env.render()
        #let us make our agent take random actions initially
        state, reward, done, info = env.step(env.action_space.sample())
        #This has 6 random acitons we can take.
        #Increment the reward everytime
        score +=  reward
    print('Episode: {}\n Score :{}'.format(episode, score))


env.close()

import numpy as np
from tensorflow.keras.models import Sequential
from tensorflow.keras.layers import Dense, Flatten, Conv2D
from tensorflow.keras.optimizers import Adam
env.observation_space
Box(0, 255, (210, 160, 3), uint8)
env.action_space.n


def build_model(height, width, channels, actions):
    model = Sequential()
    model.add(Conv2D(32,(8,8),strides=(4,4),activation='relu',input_shape=(3, height, width, channels)))
    model.add(Conv2D(64,(4,4),strides=(2,2),activation='relu'))
    model.add(Flatten())
    model.add(Dense(512, activation='relu'))
    model.add(Dense(256, activation='relu'))
    model.add(Dense(actions, activation='linear'))
    return model

height, width, channels = env.observation_space.shape
actions = env.action_space.n


del model
model = build_model(height, width, channels,actions)

#form keras rl2 
from rl.agents import DQNAgent
from rl.memory import SequentialMemory
from rl.policy import LinearAnnealedPolicy, EpsGreedyQPolicy

def build_agent(model, actions):
    policy = LinearAnnealedPolicy(EpsGreedyQPolicy(), attr='eps', value_max=1., value_min=0.1, value_test=0.2, nb_steps=10000)
    memory = SequentialMemory(limit=2000, window_length = 3)
    dqn = DQNAgent(model=model, memory=memory, policy=policy, enable_dueling_network=True, dueling_type='avg', nb_actions = actions, nb_steps_warmup = 1000)

    return dqn
dqn = build_agent(model, actions)


dqn.compile(Adam(lr=0.0001))
dqn.fit(env,nb_steps = 10000, visualize=True, verbose = 1)


scores = dqn.test(env,nb_episodes = 10, visualize=True)
print(np.mean(scores.history['episode_reward']))
dqn.save_weights('models/dqn.h5f')
dqn.load_weights('models/dqn.h5f')
    
